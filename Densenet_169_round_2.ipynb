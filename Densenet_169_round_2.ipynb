{
  "nbformat": 4,
  "nbformat_minor": 0,
  "metadata": {
    "colab": {
      "name": "Densenet 169 round 2.ipynb",
      "provenance": [],
      "collapsed_sections": [],
      "authorship_tag": "ABX9TyNlUe2+DHH5AR28irQX6KLs",
      "include_colab_link": true
    },
    "kernelspec": {
      "name": "python3",
      "display_name": "Python 3"
    },
    "accelerator": "GPU"
  },
  "cells": [
    {
      "cell_type": "markdown",
      "metadata": {
        "id": "view-in-github",
        "colab_type": "text"
      },
      "source": [
        "<a href=\"https://colab.research.google.com/github/Neil-Kloper/Prostate-cANcer-graDe-Assessment-PANDA-Challenge/blob/master/Densenet_169_round_2.ipynb\" target=\"_parent\"><img src=\"https://colab.research.google.com/assets/colab-badge.svg\" alt=\"Open In Colab\"/></a>"
      ]
    },
    {
      "cell_type": "code",
      "metadata": {
        "id": "xkdFW2Om3hnB",
        "colab_type": "code",
        "colab": {
          "base_uri": "https://localhost:8080/",
          "height": 306
        },
        "outputId": "39379a5c-d0b2-44f9-e9a4-4ed514d41d2c"
      },
      "source": [
        "!pip install \"torch==1.4\" \"torchvision==0.5.0\""
      ],
      "execution_count": 1,
      "outputs": [
        {
          "output_type": "stream",
          "text": [
            "Collecting torch==1.4\n",
            "\u001b[?25l  Downloading https://files.pythonhosted.org/packages/24/19/4804aea17cd136f1705a5e98a00618cb8f6ccc375ad8bfa437408e09d058/torch-1.4.0-cp36-cp36m-manylinux1_x86_64.whl (753.4MB)\n",
            "\u001b[K     |████████████████████████████████| 753.4MB 17kB/s \n",
            "\u001b[?25hCollecting torchvision==0.5.0\n",
            "\u001b[?25l  Downloading https://files.pythonhosted.org/packages/7e/90/6141bf41f5655c78e24f40f710fdd4f8a8aff6c8b7c6f0328240f649bdbe/torchvision-0.5.0-cp36-cp36m-manylinux1_x86_64.whl (4.0MB)\n",
            "\u001b[K     |████████████████████████████████| 4.0MB 49.7MB/s \n",
            "\u001b[?25hRequirement already satisfied: six in /usr/local/lib/python3.6/dist-packages (from torchvision==0.5.0) (1.15.0)\n",
            "Requirement already satisfied: numpy in /usr/local/lib/python3.6/dist-packages (from torchvision==0.5.0) (1.18.5)\n",
            "Requirement already satisfied: pillow>=4.1.1 in /usr/local/lib/python3.6/dist-packages (from torchvision==0.5.0) (7.0.0)\n",
            "Installing collected packages: torch, torchvision\n",
            "  Found existing installation: torch 1.5.1+cu101\n",
            "    Uninstalling torch-1.5.1+cu101:\n",
            "      Successfully uninstalled torch-1.5.1+cu101\n",
            "  Found existing installation: torchvision 0.6.1+cu101\n",
            "    Uninstalling torchvision-0.6.1+cu101:\n",
            "      Successfully uninstalled torchvision-0.6.1+cu101\n",
            "Successfully installed torch-1.4.0 torchvision-0.5.0\n"
          ],
          "name": "stdout"
        }
      ]
    },
    {
      "cell_type": "code",
      "metadata": {
        "id": "Ong7ajix3ptN",
        "colab_type": "code",
        "colab": {}
      },
      "source": [
        "import numpy as np \n",
        "import pandas as pd \n",
        "import os"
      ],
      "execution_count": 2,
      "outputs": []
    },
    {
      "cell_type": "code",
      "metadata": {
        "id": "lmQXI8CI3rz7",
        "colab_type": "code",
        "colab": {}
      },
      "source": [
        "%reload_ext autoreload\n",
        "%autoreload 2\n",
        "%matplotlib inline\n",
        "from fastai import *\n",
        "from fastai.vision import *\n",
        "import torch\n",
        "import torch.nn as nn"
      ],
      "execution_count": 3,
      "outputs": []
    },
    {
      "cell_type": "code",
      "metadata": {
        "id": "0xNoAmqb3tf7",
        "colab_type": "code",
        "colab": {
          "base_uri": "https://localhost:8080/",
          "height": 122
        },
        "outputId": "aa4d8989-2222-40df-92de-aa856347c414"
      },
      "source": [
        "from google.colab import drive\n",
        "drive.mount('/content/drive')"
      ],
      "execution_count": 4,
      "outputs": [
        {
          "output_type": "stream",
          "text": [
            "Go to this URL in a browser: https://accounts.google.com/o/oauth2/auth?client_id=947318989803-6bn6qk8qdgf4n4g3pfee6491hc0brc4i.apps.googleusercontent.com&redirect_uri=urn%3aietf%3awg%3aoauth%3a2.0%3aoob&response_type=code&scope=email%20https%3a%2f%2fwww.googleapis.com%2fauth%2fdocs.test%20https%3a%2f%2fwww.googleapis.com%2fauth%2fdrive%20https%3a%2f%2fwww.googleapis.com%2fauth%2fdrive.photos.readonly%20https%3a%2f%2fwww.googleapis.com%2fauth%2fpeopleapi.readonly\n",
            "\n",
            "Enter your authorization code:\n",
            "··········\n",
            "Mounted at /content/drive\n"
          ],
          "name": "stdout"
        }
      ]
    },
    {
      "cell_type": "code",
      "metadata": {
        "id": "--M840Ff3vfB",
        "colab_type": "code",
        "colab": {
          "base_uri": "https://localhost:8080/",
          "height": 204
        },
        "outputId": "192249d9-f317-4c8c-c7dc-ef56bcdaf085"
      },
      "source": [
        "train = pd.read_csv('/content/drive/My Drive/train.csv')\n",
        "train[['primary Gleason', 'secondary Gleason']] = train.gleason_score.str.split('+',expand=True)\n",
        "display(train.head())\n",
        "\n",
        "pd.set_option('mode.chained_assignment', None)\n",
        "\n",
        "train['id'] = train['image_id'] + '.jpeg'\n",
        "train_isup = train[['id', 'isup_grade']]\n",
        "train_primary = train[['id', 'primary Gleason']]\n",
        "train_secondary = train[['id', 'secondary Gleason']]\n",
        "\n",
        "train_isup['isup_grade'] = train_isup['isup_grade'].astype(int)\n",
        "\n",
        "\n",
        "train_isup['grade_1'] = pd.Series([1 if x >= 1 else 0 for x in train_isup['isup_grade']], index=train_isup.index)\n",
        "train_isup['grade_2'] = pd.Series([1 if x >= 2 else 0 for x in train_isup['isup_grade']], index=train_isup.index)\n",
        "train_isup['grade_3'] = pd.Series([1 if x >= 3 else 0 for x in train_isup['isup_grade']], index=train_isup.index)\n",
        "train_isup['grade_4'] = pd.Series([1 if x >= 4 else 0 for x in train_isup['isup_grade']], index=train_isup.index)\n",
        "train_isup['grade_5'] = pd.Series([1 if x >= 5 else 0 for x in train_isup['isup_grade']], index=train_isup.index)\n",
        "\n",
        "train_bin = train_isup[['id', 'grade_1', 'grade_2', 'grade_3', 'grade_4', 'grade_5']]"
      ],
      "execution_count": 5,
      "outputs": [
        {
          "output_type": "display_data",
          "data": {
            "text/html": [
              "<div>\n",
              "<style scoped>\n",
              "    .dataframe tbody tr th:only-of-type {\n",
              "        vertical-align: middle;\n",
              "    }\n",
              "\n",
              "    .dataframe tbody tr th {\n",
              "        vertical-align: top;\n",
              "    }\n",
              "\n",
              "    .dataframe thead th {\n",
              "        text-align: right;\n",
              "    }\n",
              "</style>\n",
              "<table border=\"1\" class=\"dataframe\">\n",
              "  <thead>\n",
              "    <tr style=\"text-align: right;\">\n",
              "      <th></th>\n",
              "      <th>image_id</th>\n",
              "      <th>data_provider</th>\n",
              "      <th>isup_grade</th>\n",
              "      <th>gleason_score</th>\n",
              "      <th>primary Gleason</th>\n",
              "      <th>secondary Gleason</th>\n",
              "    </tr>\n",
              "  </thead>\n",
              "  <tbody>\n",
              "    <tr>\n",
              "      <th>0</th>\n",
              "      <td>0005f7aaab2800f6170c399693a96917</td>\n",
              "      <td>karolinska</td>\n",
              "      <td>0</td>\n",
              "      <td>0+0</td>\n",
              "      <td>0</td>\n",
              "      <td>0</td>\n",
              "    </tr>\n",
              "    <tr>\n",
              "      <th>1</th>\n",
              "      <td>000920ad0b612851f8e01bcc880d9b3d</td>\n",
              "      <td>karolinska</td>\n",
              "      <td>0</td>\n",
              "      <td>0+0</td>\n",
              "      <td>0</td>\n",
              "      <td>0</td>\n",
              "    </tr>\n",
              "    <tr>\n",
              "      <th>2</th>\n",
              "      <td>0018ae58b01bdadc8e347995b69f99aa</td>\n",
              "      <td>radboud</td>\n",
              "      <td>4</td>\n",
              "      <td>4+4</td>\n",
              "      <td>4</td>\n",
              "      <td>4</td>\n",
              "    </tr>\n",
              "    <tr>\n",
              "      <th>3</th>\n",
              "      <td>001c62abd11fa4b57bf7a6c603a11bb9</td>\n",
              "      <td>karolinska</td>\n",
              "      <td>4</td>\n",
              "      <td>4+4</td>\n",
              "      <td>4</td>\n",
              "      <td>4</td>\n",
              "    </tr>\n",
              "    <tr>\n",
              "      <th>4</th>\n",
              "      <td>001d865e65ef5d2579c190a0e0350d8f</td>\n",
              "      <td>karolinska</td>\n",
              "      <td>0</td>\n",
              "      <td>0+0</td>\n",
              "      <td>0</td>\n",
              "      <td>0</td>\n",
              "    </tr>\n",
              "  </tbody>\n",
              "</table>\n",
              "</div>"
            ],
            "text/plain": [
              "                           image_id  ... secondary Gleason\n",
              "0  0005f7aaab2800f6170c399693a96917  ...                 0\n",
              "1  000920ad0b612851f8e01bcc880d9b3d  ...                 0\n",
              "2  0018ae58b01bdadc8e347995b69f99aa  ...                 4\n",
              "3  001c62abd11fa4b57bf7a6c603a11bb9  ...                 4\n",
              "4  001d865e65ef5d2579c190a0e0350d8f  ...                 0\n",
              "\n",
              "[5 rows x 6 columns]"
            ]
          },
          "metadata": {
            "tags": []
          }
        }
      ]
    },
    {
      "cell_type": "code",
      "metadata": {
        "id": "ZKb9eEat3yBa",
        "colab_type": "code",
        "colab": {}
      },
      "source": [
        "transform = get_transforms(do_flip=True,\n",
        "                           flip_vert=True,#default False\n",
        "                           max_rotate=15,\n",
        "                           max_zoom=1.15,\n",
        "                           max_lighting=0.15,\n",
        "                           max_warp=0.25,\n",
        "                           p_affine=0.5,\n",
        "                           p_lighting = 0.5, \n",
        "                           xtra_tfms= [\n",
        "# ###                               zoom_crop(scale=(0.75,2), do_rand=True),#currently not working\n",
        "# ###                               rand_resize_crop(size=224, max_scale=2.0, ratios=(0.75, 1.33)), #currently not working\n",
        "#                                 rotate(degrees=(-30,30), p=0.75),\n",
        "#                                 brightness(change=0.5),\n",
        "# ###                               contrast(scale=1),#currently not working\n",
        "#                                 crop_pad(size=512, padding_mode='reflection', row_pct=1., col_pct=1.),\n",
        "#                                 jitter(magnitude=0.03),\n",
        "# ###                               crop(row_pct=0.5, col_pct=0.5),\n",
        "#                                 pad(mode='reflection'),\n",
        "#                                 perspective_warp(magnitude=0.03, invert=False),\n",
        "#                                 rotate(degrees=0.0),\n",
        "#                                 rgb_randomize(channel=None, thresh=0.3),\n",
        "# ###                               skew(direction=1, magnitude=0.03, invert=False), #currently not working\n",
        "#                                 squish(scale=1.1, row_pct=0.7, col_pct=0.7),\n",
        "                                symmetric_warp(magnitude=(-0.1,0.1)),\n",
        "# ###                               tilt(direction=0, magnitude=0, invert=False), #currently not working\n",
        "#                                 zoom(scale=1.0, row_pct=0.5, col_pct=0.5),\n",
        "#                                 cutout(n_holes=(4,12), length=(10,40))\n",
        "                           ]\n",
        "                          )"
      ],
      "execution_count": 6,
      "outputs": []
    },
    {
      "cell_type": "code",
      "metadata": {
        "id": "EEmG71W4335c",
        "colab_type": "code",
        "colab": {}
      },
      "source": [
        "path = Path('/content/drive/My Drive/w200_s100_k25/')\n",
        "data = ImageDataBunch.from_df(path=path,\n",
        "                              df=train_bin,\n",
        "                              valid_pct=0.3,\n",
        "                              label_col=['grade_1', 'grade_2', 'grade_3', 'grade_4', 'grade_5'],\n",
        "                              size=686,\n",
        "                              bs=8,\n",
        "                              ds_tfms=transform\n",
        "        ).normalize(imagenet_stats)"
      ],
      "execution_count": 7,
      "outputs": []
    },
    {
      "cell_type": "code",
      "metadata": {
        "id": "z6oBxzyO38SM",
        "colab_type": "code",
        "colab": {}
      },
      "source": [
        "learn = cnn_learner(data, models.densenet169, loss_func=nn.BCEWithLogitsLoss(), metrics=[fbeta, accuracy, accuracy_thresh], pretrained=False)\n",
        "Model_Path = Path('/content/drive/My Drive')\n",
        "learn.model_dir = Model_Path\n",
        "learn.load('dense169-checkpoint-2')\n",
        "learn.model_dir = Model_Path"
      ],
      "execution_count": 8,
      "outputs": []
    },
    {
      "cell_type": "code",
      "metadata": {
        "id": "0dCKRv3Z4Jyd",
        "colab_type": "code",
        "colab": {
          "base_uri": "https://localhost:8080/",
          "height": 297
        },
        "outputId": "a37dbb26-be4d-40ff-900e-b241eaacef99"
      },
      "source": [
        "learn.fit_one_cycle(8, max_lr=1e-4) "
      ],
      "execution_count": 9,
      "outputs": [
        {
          "output_type": "display_data",
          "data": {
            "text/html": [
              "<table border=\"1\" class=\"dataframe\">\n",
              "  <thead>\n",
              "    <tr style=\"text-align: left;\">\n",
              "      <th>epoch</th>\n",
              "      <th>train_loss</th>\n",
              "      <th>valid_loss</th>\n",
              "      <th>fbeta</th>\n",
              "      <th>accuracy</th>\n",
              "      <th>accuracy_thresh</th>\n",
              "      <th>time</th>\n",
              "    </tr>\n",
              "  </thead>\n",
              "  <tbody>\n",
              "    <tr>\n",
              "      <td>0</td>\n",
              "      <td>0.375943</td>\n",
              "      <td>0.317441</td>\n",
              "      <td>0.650168</td>\n",
              "      <td>0.627889</td>\n",
              "      <td>0.865075</td>\n",
              "      <td>33:48</td>\n",
              "    </tr>\n",
              "    <tr>\n",
              "      <td>1</td>\n",
              "      <td>0.386851</td>\n",
              "      <td>0.331780</td>\n",
              "      <td>0.649693</td>\n",
              "      <td>0.627889</td>\n",
              "      <td>0.849937</td>\n",
              "      <td>14:53</td>\n",
              "    </tr>\n",
              "    <tr>\n",
              "      <td>2</td>\n",
              "      <td>0.362817</td>\n",
              "      <td>0.348549</td>\n",
              "      <td>0.640884</td>\n",
              "      <td>0.619095</td>\n",
              "      <td>0.845100</td>\n",
              "      <td>14:57</td>\n",
              "    </tr>\n",
              "    <tr>\n",
              "      <td>3</td>\n",
              "      <td>0.352885</td>\n",
              "      <td>0.310160</td>\n",
              "      <td>0.640149</td>\n",
              "      <td>0.608857</td>\n",
              "      <td>0.863002</td>\n",
              "      <td>14:58</td>\n",
              "    </tr>\n",
              "    <tr>\n",
              "      <td>4</td>\n",
              "      <td>0.342296</td>\n",
              "      <td>0.303459</td>\n",
              "      <td>0.634660</td>\n",
              "      <td>0.609673</td>\n",
              "      <td>0.871608</td>\n",
              "      <td>14:58</td>\n",
              "    </tr>\n",
              "    <tr>\n",
              "      <td>5</td>\n",
              "      <td>0.288642</td>\n",
              "      <td>0.285844</td>\n",
              "      <td>0.644332</td>\n",
              "      <td>0.611934</td>\n",
              "      <td>0.881093</td>\n",
              "      <td>15:06</td>\n",
              "    </tr>\n",
              "    <tr>\n",
              "      <td>6</td>\n",
              "      <td>0.289776</td>\n",
              "      <td>0.278604</td>\n",
              "      <td>0.647838</td>\n",
              "      <td>0.613254</td>\n",
              "      <td>0.885616</td>\n",
              "      <td>14:55</td>\n",
              "    </tr>\n",
              "    <tr>\n",
              "      <td>7</td>\n",
              "      <td>0.327213</td>\n",
              "      <td>0.277171</td>\n",
              "      <td>0.646640</td>\n",
              "      <td>0.613128</td>\n",
              "      <td>0.883731</td>\n",
              "      <td>15:08</td>\n",
              "    </tr>\n",
              "  </tbody>\n",
              "</table>"
            ],
            "text/plain": [
              "<IPython.core.display.HTML object>"
            ]
          },
          "metadata": {
            "tags": []
          }
        }
      ]
    },
    {
      "cell_type": "code",
      "metadata": {
        "id": "EIYRJg-LoDW6",
        "colab_type": "code",
        "colab": {}
      },
      "source": [
        "learn.save('dense169-checkpoint-4')"
      ],
      "execution_count": 10,
      "outputs": []
    },
    {
      "cell_type": "code",
      "metadata": {
        "id": "3PFJxRVECOBQ",
        "colab_type": "code",
        "colab": {}
      },
      "source": [
        "#learn.load('dense169-checkpoint-4'):"
      ],
      "execution_count": 11,
      "outputs": []
    },
    {
      "cell_type": "code",
      "metadata": {
        "id": "tONyUkQPnuZz",
        "colab_type": "code",
        "colab": {
          "base_uri": "https://localhost:8080/",
          "height": 374
        },
        "outputId": "79493399-bbb8-44d3-f941-102f7def94a4"
      },
      "source": [
        "learn.lr_find()\n",
        "learn.recorder.plot()"
      ],
      "execution_count": 12,
      "outputs": [
        {
          "output_type": "display_data",
          "data": {
            "text/html": [
              "\n",
              "    <div>\n",
              "        <style>\n",
              "            /* Turns off some styling */\n",
              "            progress {\n",
              "                /* gets rid of default border in Firefox and Opera. */\n",
              "                border: none;\n",
              "                /* Needs to be in here for Safari polyfill so background images work as expected. */\n",
              "                background-size: auto;\n",
              "            }\n",
              "            .progress-bar-interrupted, .progress-bar-interrupted::-webkit-progress-bar {\n",
              "                background: #F44336;\n",
              "            }\n",
              "        </style>\n",
              "      <progress value='0' class='' max='1' style='width:300px; height:20px; vertical-align: middle;'></progress>\n",
              "      0.00% [0/1 00:00<00:00]\n",
              "    </div>\n",
              "    \n",
              "<table border=\"1\" class=\"dataframe\">\n",
              "  <thead>\n",
              "    <tr style=\"text-align: left;\">\n",
              "      <th>epoch</th>\n",
              "      <th>train_loss</th>\n",
              "      <th>valid_loss</th>\n",
              "      <th>fbeta</th>\n",
              "      <th>accuracy</th>\n",
              "      <th>accuracy_thresh</th>\n",
              "      <th>time</th>\n",
              "    </tr>\n",
              "  </thead>\n",
              "  <tbody>\n",
              "  </tbody>\n",
              "</table><p>\n",
              "\n",
              "    <div>\n",
              "        <style>\n",
              "            /* Turns off some styling */\n",
              "            progress {\n",
              "                /* gets rid of default border in Firefox and Opera. */\n",
              "                border: none;\n",
              "                /* Needs to be in here for Safari polyfill so background images work as expected. */\n",
              "                background-size: auto;\n",
              "            }\n",
              "            .progress-bar-interrupted, .progress-bar-interrupted::-webkit-progress-bar {\n",
              "                background: #F44336;\n",
              "            }\n",
              "        </style>\n",
              "      <progress value='85' class='' max='929' style='width:300px; height:20px; vertical-align: middle;'></progress>\n",
              "      9.15% [85/929 01:12<11:57 0.9734]\n",
              "    </div>\n",
              "    "
            ],
            "text/plain": [
              "<IPython.core.display.HTML object>"
            ]
          },
          "metadata": {
            "tags": []
          }
        },
        {
          "output_type": "stream",
          "text": [
            "LR Finder is complete, type {learner_name}.recorder.plot() to see the graph.\n"
          ],
          "name": "stdout"
        },
        {
          "output_type": "display_data",
          "data": {
            "image/png": "[encoded data removed]",
            "text/plain": [
              "<Figure size 432x288 with 1 Axes>"
            ]
          },
          "metadata": {
            "tags": [],
            "needs_background": "light"
          }
        }
      ]
    },
    {
      "cell_type": "code",
      "metadata": {
        "id": "w9D3M-z4lDFM",
        "colab_type": "code",
        "colab": {
          "base_uri": "https://localhost:8080/",
          "height": 111
        },
        "outputId": "910c3b05-d7d0-4657-98bc-94e01d523d35"
      },
      "source": [
        "learn.unfreeze()\n",
        "learn.fit_one_cycle(2, max_lr=slice(1e-5, 1e-4), wd=1e-1)"
      ],
      "execution_count": 13,
      "outputs": [
        {
          "output_type": "display_data",
          "data": {
            "text/html": [
              "<table border=\"1\" class=\"dataframe\">\n",
              "  <thead>\n",
              "    <tr style=\"text-align: left;\">\n",
              "      <th>epoch</th>\n",
              "      <th>train_loss</th>\n",
              "      <th>valid_loss</th>\n",
              "      <th>fbeta</th>\n",
              "      <th>accuracy</th>\n",
              "      <th>accuracy_thresh</th>\n",
              "      <th>time</th>\n",
              "    </tr>\n",
              "  </thead>\n",
              "  <tbody>\n",
              "    <tr>\n",
              "      <td>0</td>\n",
              "      <td>0.318499</td>\n",
              "      <td>0.278753</td>\n",
              "      <td>0.645396</td>\n",
              "      <td>0.614196</td>\n",
              "      <td>0.882098</td>\n",
              "      <td>15:05</td>\n",
              "    </tr>\n",
              "    <tr>\n",
              "      <td>1</td>\n",
              "      <td>0.310793</td>\n",
              "      <td>0.276424</td>\n",
              "      <td>0.643323</td>\n",
              "      <td>0.609296</td>\n",
              "      <td>0.885364</td>\n",
              "      <td>15:09</td>\n",
              "    </tr>\n",
              "  </tbody>\n",
              "</table>"
            ],
            "text/plain": [
              "<IPython.core.display.HTML object>"
            ]
          },
          "metadata": {
            "tags": []
          }
        }
      ]
    },
    {
      "cell_type": "code",
      "metadata": {
        "id": "0h1wFE71uknw",
        "colab_type": "code",
        "colab": {
          "base_uri": "https://localhost:8080/",
          "height": 34
        },
        "outputId": "13582472-c164-404c-d58c-bdf0bb604b57"
      },
      "source": [
        "learn.save('dense169-checkpoint-5')\n",
        "print('save!')"
      ],
      "execution_count": 14,
      "outputs": [
        {
          "output_type": "stream",
          "text": [
            "save!\n"
          ],
          "name": "stdout"
        }
      ]
    },
    {
      "cell_type": "code",
      "metadata": {
        "id": "Trc0fXuk510o",
        "colab_type": "code",
        "colab": {}
      },
      "source": [
        ""
      ],
      "execution_count": 14,
      "outputs": []
    }
  ]
}